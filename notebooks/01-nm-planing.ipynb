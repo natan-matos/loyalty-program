{
 "cells": [
  {
   "cell_type": "markdown",
   "metadata": {},
   "source": [
    "# 0.0 Imports"
   ]
  },
  {
   "cell_type": "code",
   "execution_count": 1,
   "metadata": {},
   "outputs": [],
   "source": [
    "import pandas as pd"
   ]
  },
  {
   "cell_type": "markdown",
   "metadata": {},
   "source": [
    "## 0.1 Helper Functions"
   ]
  },
  {
   "cell_type": "markdown",
   "metadata": {},
   "source": [
    "### Set Display"
   ]
  },
  {
   "cell_type": "markdown",
   "metadata": {},
   "source": [
    "## 0.2 Load Data"
   ]
  },
  {
   "cell_type": "code",
   "execution_count": 3,
   "metadata": {},
   "outputs": [],
   "source": [
    "data = pd.read_csv('../data/raw/data.csv', encoding='unicode_escape')"
   ]
  },
  {
   "cell_type": "markdown",
   "metadata": {},
   "source": [
    "## 0.3 Train & Test Split"
   ]
  },
  {
   "cell_type": "markdown",
   "metadata": {},
   "source": [
    "# Planification (IoT)"
   ]
  },
  {
   "cell_type": "code",
   "execution_count": null,
   "metadata": {},
   "outputs": [],
   "source": [
    "# Input\n",
    "- Business problem: select the most value clients to integrate the loyalty program\n",
    "- Data set\n",
    "\n",
    "# Output\n",
    "- The indication of the people who integrate the Insiders group\n",
    "- Report with the answers to the business questions\n",
    "\n",
    "# Tasks\n",
    "**Perguntas:**\n",
    "\n",
    "1. **Quem são as pessoas elegíveis para participar do programa Insiders?**\n",
    "    1. O que é ser elegivel?\n",
    "    2. O que são clientes de maior valor?\n",
    "    3. Faturamento\n",
    "        1. Alto ticket médio\n",
    "        2. Alto LTV\n",
    "        3. Baixa recência (recorrência alta e recente)\n",
    "        4. Alto basket size (tamanho da cesta de compra\n",
    "        5. Baixa probabilidade de Churn\n",
    "        6. Alta Previsão de LTV\n",
    "        7. Alta propensão de compra\n",
    "    4. Custo\n",
    "        1. Baixo taxa de devolução\n",
    "        2. \n",
    "    5. Experiência de compra\n",
    "        1. Média alta das avaliações\n",
    "\n",
    "2. **Quantos clientes farão parte do grupo?**\n",
    "    1. Número total de clientes\n",
    "    2. % do grupo Insiders\n",
    "\n",
    "3. **Quais as principais características destes clientes?**\n",
    "    1. **Características do cliente**\n",
    "        1. Cliente\n",
    "            1. Idade\n",
    "            2. Localização\n",
    "        2. Consumo\n",
    "            1. Atributos da clusterização\n",
    "    \n",
    "4. **Qual a porcentagem de contribuição do faturamento, vinda dos Insiders?**\n",
    "    1. Faturamento total ano\n",
    "    2. Faturamento grupo Insiders\n",
    "\n",
    "5. **Qual a expectativa de faturamento desse grupo para os próximos meses?**\n",
    "    1. LTV grupo Insiders\n",
    "    2. Análise de Cohort\n",
    "\n",
    "6. **Quais as condições para uma pessoa participar do grupo?**\n",
    "    1. Definir periodicidade (1 mes, 3 meses )\n",
    "    2. A pessoa precisa ser similar com uma pessoa do grupo\n",
    "\n",
    "7. **Quais as condições para uma pessoas ser removida do grupo?**\n",
    "    1. Definir periodicidade\n",
    "    2. A pessoa precisa ser disimilar ao grupo\n",
    "\n",
    "8. **Qual a garantia que o programa é melhor que o restante da base?**\n",
    "    1. Test A/B\n",
    "    2. Teste de hipótese\n",
    "\n",
    "9. **Quais ações o time de marketing pode realizar para aumentar o faturamento?**\n",
    "    1. Desconto\n",
    "    2. Preferência de compra \n",
    "    3. frete\n",
    "    4. visita a empresa\n",
    "\n",
    "# Process\n",
    "1. Data exploration\n",
    "    1. Statistical descriptio\n",
    "    2. Count the classes\n",
    "\n",
    "2. Dat cleaning\n",
    "    1. Check and fillout Nan\n",
    "    2. Look for outliers and handle them\n",
    "\n",
    "3. EDA\n",
    "    1. Explore the distribuition of the numerical features (Unvariate Analysis)\n",
    "    2. Explore the correlation with the value spended in the shop\n",
    "    3. Answer the business question\n",
    "    \n",
    "4. Feature Engineering\n",
    "    1. RFM segmentation\n",
    "    2. Create RMF Score \n"
   ]
  },
  {
   "cell_type": "markdown",
   "metadata": {},
   "source": [
    "# 1.0 Data Description"
   ]
  },
  {
   "cell_type": "markdown",
   "metadata": {},
   "source": [
    "## 1.1 Data Dimensions"
   ]
  },
  {
   "cell_type": "markdown",
   "metadata": {},
   "source": [
    "## 1.2 Descriptive Statistics"
   ]
  },
  {
   "cell_type": "markdown",
   "metadata": {},
   "source": [
    "### Numerical"
   ]
  },
  {
   "cell_type": "markdown",
   "metadata": {},
   "source": [
    "### Categorical"
   ]
  },
  {
   "cell_type": "markdown",
   "metadata": {},
   "source": [
    "# 2.0 Feature Engineering"
   ]
  },
  {
   "cell_type": "markdown",
   "metadata": {},
   "source": [
    "## 2.1 Rename Columns"
   ]
  },
  {
   "cell_type": "markdown",
   "metadata": {},
   "source": [
    "## 2.2 Feature Engineering"
   ]
  },
  {
   "cell_type": "markdown",
   "metadata": {},
   "source": [
    "# 3.0 Data Filtering"
   ]
  },
  {
   "cell_type": "markdown",
   "metadata": {},
   "source": [
    "# 4.0 EDA"
   ]
  },
  {
   "cell_type": "markdown",
   "metadata": {},
   "source": [
    "## 4.1 Hypothesis Map"
   ]
  },
  {
   "cell_type": "markdown",
   "metadata": {},
   "source": [
    "## 4.2 Univariate Analysis"
   ]
  },
  {
   "cell_type": "code",
   "execution_count": null,
   "metadata": {},
   "outputs": [],
   "source": []
  },
  {
   "cell_type": "markdown",
   "metadata": {},
   "source": [
    "# 5.0 Data Preparation"
   ]
  },
  {
   "cell_type": "markdown",
   "metadata": {},
   "source": [
    "### Standardization, Rescaling and Encoding"
   ]
  },
  {
   "cell_type": "code",
   "execution_count": null,
   "metadata": {},
   "outputs": [],
   "source": []
  },
  {
   "cell_type": "markdown",
   "metadata": {},
   "source": [
    "# 6.0 Feature Selection"
   ]
  },
  {
   "cell_type": "markdown",
   "metadata": {},
   "source": [
    "## 6.1 Split Train & Validation"
   ]
  },
  {
   "cell_type": "markdown",
   "metadata": {},
   "source": [
    "## 6.2 Fature Selection"
   ]
  },
  {
   "cell_type": "markdown",
   "metadata": {},
   "source": [
    "### Boruta"
   ]
  },
  {
   "cell_type": "markdown",
   "metadata": {},
   "source": [
    "### Fature Importance"
   ]
  },
  {
   "cell_type": "markdown",
   "metadata": {},
   "source": [
    "# 7.0 Machine Learnign Modeling"
   ]
  },
  {
   "cell_type": "markdown",
   "metadata": {},
   "source": [
    "## 7.1 Model Test"
   ]
  },
  {
   "cell_type": "markdown",
   "metadata": {},
   "source": [
    "## 7.3 Performance Comparation"
   ]
  },
  {
   "cell_type": "markdown",
   "metadata": {},
   "source": [
    "### Models Results"
   ]
  },
  {
   "cell_type": "markdown",
   "metadata": {},
   "source": [
    "## 7.4 Cross Validation"
   ]
  },
  {
   "cell_type": "markdown",
   "metadata": {},
   "source": [
    "# 8.0 Fine Tunning"
   ]
  },
  {
   "cell_type": "markdown",
   "metadata": {},
   "source": [
    "## 8.1 Random Search"
   ]
  },
  {
   "cell_type": "markdown",
   "metadata": {},
   "source": [
    "# 9.0 Final Model"
   ]
  },
  {
   "cell_type": "markdown",
   "metadata": {},
   "source": [
    "## Model Training"
   ]
  },
  {
   "cell_type": "markdown",
   "metadata": {},
   "source": [
    "### Model Validation"
   ]
  },
  {
   "cell_type": "markdown",
   "metadata": {},
   "source": [
    "## Final Model"
   ]
  },
  {
   "cell_type": "markdown",
   "metadata": {},
   "source": [
    "# 10.0 Results Interpretation"
   ]
  },
  {
   "cell_type": "markdown",
   "metadata": {},
   "source": [
    "# 11.0 Deploy"
   ]
  }
 ],
 "metadata": {
  "kernelspec": {
   "display_name": "paenv",
   "language": "python",
   "name": "python3"
  },
  "language_info": {
   "codemirror_mode": {
    "name": "ipython",
    "version": 3
   },
   "file_extension": ".py",
   "mimetype": "text/x-python",
   "name": "python",
   "nbconvert_exporter": "python",
   "pygments_lexer": "ipython3",
   "version": "3.11.4"
  },
  "orig_nbformat": 4
 },
 "nbformat": 4,
 "nbformat_minor": 2
}
